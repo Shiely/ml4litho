{
 "cells": [
  {
   "cell_type": "code",
   "execution_count": null,
   "metadata": {
    "collapsed": true
   },
   "outputs": [],
   "source": [
    "import sys\n",
    "sys.platform"
   ]
  },
  {
   "cell_type": "code",
   "execution_count": null,
   "metadata": {
    "collapsed": true
   },
   "outputs": [],
   "source": [
    "from IPython import embed"
   ]
  },
  {
   "cell_type": "code",
   "execution_count": null,
   "metadata": {
    "collapsed": true
   },
   "outputs": [],
   "source": [
    "embed()"
   ]
  },
  {
   "cell_type": "code",
   "execution_count": 3,
   "metadata": {
    "collapsed": true
   },
   "outputs": [],
   "source": [
    "from IPython.core.debugger import Tracer;"
   ]
  },
  {
   "cell_type": "code",
   "execution_count": 4,
   "metadata": {},
   "outputs": [
    {
     "name": "stderr",
     "output_type": "stream",
     "text": [
      "/Users/jamesshiely/anaconda/envs/py27/lib/python2.7/site-packages/ipykernel_launcher.py:1: DeprecationWarning: `Tracer` is deprecated since version 5.1, directly use `IPython.core.debugger.Pdb.set_trace()`\n",
      "  \"\"\"Entry point for launching an IPython kernel.\n"
     ]
    },
    {
     "name": "stdout",
     "output_type": "stream",
     "text": [
      "--Call--\n",
      "> \u001b[0;32m/Users/jamesshiely/anaconda/envs/py27/lib/python2.7/site-packages/IPython/core/displayhook.py\u001b[0m(236)\u001b[0;36m__call__\u001b[0;34m()\u001b[0m\n",
      "\u001b[0;32m    234 \u001b[0;31m        \u001b[0msys\u001b[0m\u001b[0;34m.\u001b[0m\u001b[0mstdout\u001b[0m\u001b[0;34m.\u001b[0m\u001b[0mflush\u001b[0m\u001b[0;34m(\u001b[0m\u001b[0;34m)\u001b[0m\u001b[0;34m\u001b[0m\u001b[0m\n",
      "\u001b[0m\u001b[0;32m    235 \u001b[0;31m\u001b[0;34m\u001b[0m\u001b[0m\n",
      "\u001b[0m\u001b[0;32m--> 236 \u001b[0;31m    \u001b[0;32mdef\u001b[0m \u001b[0m__call__\u001b[0m\u001b[0;34m(\u001b[0m\u001b[0mself\u001b[0m\u001b[0;34m,\u001b[0m \u001b[0mresult\u001b[0m\u001b[0;34m=\u001b[0m\u001b[0mNone\u001b[0m\u001b[0;34m)\u001b[0m\u001b[0;34m:\u001b[0m\u001b[0;34m\u001b[0m\u001b[0m\n",
      "\u001b[0m\u001b[0;32m    237 \u001b[0;31m        \"\"\"Printing with history cache management.\n",
      "\u001b[0m\u001b[0;32m    238 \u001b[0;31m\u001b[0;34m\u001b[0m\u001b[0m\n",
      "\u001b[0m\n",
      "ipdb> h\n",
      "\n",
      "Documented commands (type help <topic>):\n",
      "========================================\n",
      "EOF    bt         cont      enable  jump  pdef    psource  run      unt   \n",
      "a      c          continue  exit    l     pdoc    q        s        until \n",
      "alias  cl         d         h       list  pfile   quit     step     up    \n",
      "args   clear      debug     help    n     pinfo   r        tbreak   w     \n",
      "b      commands   disable   ignore  next  pinfo2  restart  u        whatis\n",
      "break  condition  down      j       p     pp      return   unalias  where \n",
      "\n",
      "Miscellaneous help topics:\n",
      "==========================\n",
      "exec  pdb\n",
      "\n",
      "Undocumented commands:\n",
      "======================\n",
      "ll  longlist  retval  rv\n",
      "\n",
      "ipdb> quit\n",
      "Exiting Debugger.\n"
     ]
    }
   ],
   "source": [
    "Tracer()()"
   ]
  },
  {
   "cell_type": "markdown",
   "metadata": {},
   "source": [
    "## Intro to Python Object Types"
   ]
  },
  {
   "cell_type": "markdown",
   "metadata": {},
   "source": [
    "### Everything is Objects!\n",
    "All data in python takes the form of ** objects **.\n",
    "which are just pieces of memory with values and associated operations.\n",
    "\n",
    "Even numbers and operations are **objects**."
   ]
  },
  {
   "cell_type": "markdown",
   "metadata": {},
   "source": [
    "### Everything has a place in the hierarchy\n",
    "**programs** are composed of *modules*.\n",
    "\n",
    "**modules** contain *statements*\n",
    "\n",
    "**statements** contain *expressions*\n",
    "\n",
    "**expressiosn** create and process *objects*"
   ]
  },
  {
   "cell_type": "markdown",
   "metadata": {},
   "source": [
    "### Core Data Tytpes\n",
    "* Numbers\n",
    "* Strings\n",
    "* Lists\n",
    "* Dictionaries\n",
    "* Tuples\n",
    "* Files\n",
    "* Sets\n",
    "* Booleans, types, None\n",
    "* Program unit types (functions, modules, classes)\n",
    "    created with statements, and still objects. can be passed around freely, stored\n",
    "* Implementation-related types (compiled code, stack traces)\n",
    "\n",
    "\n",
    "**Once you create an object, you bind its operations set for all time!!!!** (Dynamic Strong Types)\n"
   ]
  },
  {
   "cell_type": "markdown",
   "metadata": {},
   "source": [
    "#### Numbers\n",
    "#### Strings and Sequence Operations\n",
    "A kind of **sequence** which means positionally-ordered collection of objects.\n",
    "Left-Right sequence of 1-character strongs.\n",
    "\n",
    "- ** len ** returns # of elements in the sequence.\n",
    "\n",
    "- Indexing by [ ] returns item in sequence by position. [-1] from the end of the sequence and backwards.\n",
    "\n",
    "- Slicing extracts a section of a sequence in a single step.\n",
    "    - X[I:J] means \" give me everything in X from offset I up to but not including offset J.\n",
    "        - left defaults to 0, right defaults to len(X)\n",
    "\n",
    "- Concatenation is supported with '+'\n",
    "\n",
    "- Repetition is supporrted with '*'"
   ]
  },
  {
   "cell_type": "code",
   "execution_count": 6,
   "metadata": {},
   "outputs": [
    {
     "data": {
      "text/plain": [
       "'spam'"
      ]
     },
     "execution_count": 6,
     "metadata": {},
     "output_type": "execute_result"
    }
   ],
   "source": [
    "S='spam'\n",
    "S"
   ]
  },
  {
   "cell_type": "code",
   "execution_count": 7,
   "metadata": {},
   "outputs": [
    {
     "data": {
      "text/plain": [
       "4"
      ]
     },
     "execution_count": 7,
     "metadata": {},
     "output_type": "execute_result"
    }
   ],
   "source": [
    "len(S)"
   ]
  },
  {
   "cell_type": "code",
   "execution_count": 8,
   "metadata": {},
   "outputs": [
    {
     "data": {
      "text/plain": [
       "'a'"
      ]
     },
     "execution_count": 8,
     "metadata": {},
     "output_type": "execute_result"
    }
   ],
   "source": [
    "S[2]"
   ]
  },
  {
   "cell_type": "code",
   "execution_count": 9,
   "metadata": {},
   "outputs": [
    {
     "data": {
      "text/plain": [
       "'pam'"
      ]
     },
     "execution_count": 9,
     "metadata": {},
     "output_type": "execute_result"
    }
   ],
   "source": [
    "S[1:]"
   ]
  },
  {
   "cell_type": "code",
   "execution_count": 10,
   "metadata": {},
   "outputs": [
    {
     "data": {
      "text/plain": [
       "'spam'"
      ]
     },
     "execution_count": 10,
     "metadata": {},
     "output_type": "execute_result"
    }
   ],
   "source": [
    "S[:]"
   ]
  },
  {
   "cell_type": "code",
   "execution_count": 11,
   "metadata": {},
   "outputs": [
    {
     "data": {
      "text/plain": [
       "'spa'"
      ]
     },
     "execution_count": 11,
     "metadata": {},
     "output_type": "execute_result"
    }
   ],
   "source": [
    "S[:-1]"
   ]
  },
  {
   "cell_type": "code",
   "execution_count": 13,
   "metadata": {},
   "outputs": [
    {
     "data": {
      "text/plain": [
       "'spamwfasfadf'"
      ]
     },
     "execution_count": 13,
     "metadata": {},
     "output_type": "execute_result"
    }
   ],
   "source": [
    "S+'wfasfadf'"
   ]
  },
  {
   "cell_type": "code",
   "execution_count": 14,
   "metadata": {},
   "outputs": [
    {
     "data": {
      "text/plain": [
       "'spamspamspamspamspamspamspamspamspam'"
      ]
     },
     "execution_count": 14,
     "metadata": {},
     "output_type": "execute_result"
    }
   ],
   "source": [
    "S*9"
   ]
  },
  {
   "cell_type": "code",
   "execution_count": 35,
   "metadata": {
    "collapsed": true
   },
   "outputs": [],
   "source": [
    "T = 'Phineas the Wolf   '"
   ]
  },
  {
   "cell_type": "code",
   "execution_count": 36,
   "metadata": {},
   "outputs": [
    {
     "data": {
      "text/plain": [
       "'Phineas the Wolf   Phineas the Wolf   Phineas the Wolf   Phineas the Wolf   Phineas the Wolf   Phineas the Wolf   Phineas the Wolf   Phineas the Wolf   Phineas the Wolf   Phineas the Wolf   Phineas the Wolf   Phineas the Wolf   Phineas the Wolf   Phineas the Wolf   Phineas the Wolf   Phineas the Wolf   Phineas the Wolf   Phineas the Wolf   Phineas the Wolf   Phineas the Wolf   Phineas the Wolf   Phineas the Wolf   Phineas the Wolf   Phineas the Wolf   Phineas the Wolf   Phineas the Wolf   Phineas the Wolf   Phineas the Wolf   Phineas the Wolf   Phineas the Wolf   Phineas the Wolf   Phineas the Wolf   Phineas the Wolf   Phineas the Wolf   Phineas the Wolf   Phineas the Wolf   Phineas the Wolf   Phineas the Wolf   Phineas the Wolf   Phineas the Wolf   Phineas the Wolf   Phineas the Wolf   Phineas the Wolf   Phineas the Wolf   Phineas the Wolf   Phineas the Wolf   Phineas the Wolf   Phineas the Wolf   Phineas the Wolf   Phineas the Wolf   Phineas the Wolf   Phineas the Wolf   Phineas the Wolf   Phineas the Wolf   Phineas the Wolf   Phineas the Wolf   Phineas the Wolf   Phineas the Wolf   Phineas the Wolf   Phineas the Wolf   Phineas the Wolf   Phineas the Wolf   Phineas the Wolf   Phineas the Wolf   Phineas the Wolf   Phineas the Wolf   Phineas the Wolf   Phineas the Wolf   Phineas the Wolf   Phineas the Wolf   Phineas the Wolf   Phineas the Wolf   Phineas the Wolf   Phineas the Wolf   Phineas the Wolf   Phineas the Wolf   Phineas the Wolf   Phineas the Wolf   Phineas the Wolf   Phineas the Wolf   Phineas the Wolf   Phineas the Wolf   Phineas the Wolf   Phineas the Wolf   Phineas the Wolf   Phineas the Wolf   Phineas the Wolf   Phineas the Wolf   Phineas the Wolf   Phineas the Wolf   Phineas the Wolf   Phineas the Wolf   Phineas the Wolf   Phineas the Wolf   Phineas the Wolf   Phineas the Wolf   Phineas the Wolf   Phineas the Wolf   Phineas the Wolf   Phineas the Wolf   Phineas the Wolf   Phineas the Wolf   Phineas the Wolf   Phineas the Wolf   Phineas the Wolf   Phineas the Wolf   Phineas the Wolf   Phineas the Wolf   Phineas the Wolf   Phineas the Wolf   Phineas the Wolf   Phineas the Wolf   Phineas the Wolf   Phineas the Wolf   Phineas the Wolf   Phineas the Wolf   Phineas the Wolf   Phineas the Wolf   Phineas the Wolf   Phineas the Wolf   Phineas the Wolf   Phineas the Wolf   Phineas the Wolf   Phineas the Wolf   Phineas the Wolf   Phineas the Wolf   Phineas the Wolf   Phineas the Wolf   Phineas the Wolf   Phineas the Wolf   Phineas the Wolf   Phineas the Wolf   Phineas the Wolf   Phineas the Wolf   Phineas the Wolf   Phineas the Wolf   Phineas the Wolf   Phineas the Wolf   Phineas the Wolf   Phineas the Wolf   Phineas the Wolf   Phineas the Wolf   Phineas the Wolf   Phineas the Wolf   Phineas the Wolf   Phineas the Wolf   Phineas the Wolf   Phineas the Wolf   Phineas the Wolf   Phineas the Wolf   Phineas the Wolf   Phineas the Wolf   Phineas the Wolf   Phineas the Wolf   Phineas the Wolf   Phineas the Wolf   Phineas the Wolf   Phineas the Wolf   Phineas the Wolf   Phineas the Wolf   Phineas the Wolf   Phineas the Wolf   Phineas the Wolf   Phineas the Wolf   Phineas the Wolf   Phineas the Wolf   Phineas the Wolf   Phineas the Wolf   Phineas the Wolf   Phineas the Wolf   Phineas the Wolf   Phineas the Wolf   Phineas the Wolf   Phineas the Wolf   Phineas the Wolf   Phineas the Wolf   Phineas the Wolf   Phineas the Wolf   Phineas the Wolf   Phineas the Wolf   Phineas the Wolf   Phineas the Wolf   Phineas the Wolf   Phineas the Wolf   Phineas the Wolf   Phineas the Wolf   Phineas the Wolf   Phineas the Wolf   Phineas the Wolf   Phineas the Wolf   Phineas the Wolf   Phineas the Wolf   Phineas the Wolf   Phineas the Wolf   Phineas the Wolf   Phineas the Wolf   Phineas the Wolf   Phineas the Wolf   Phineas the Wolf   Phineas the Wolf   Phineas the Wolf   Phineas the Wolf   Phineas the Wolf   Phineas the Wolf   Phineas the Wolf   Phineas the Wolf   Phineas the Wolf   Phineas the Wolf   Phineas the Wolf   Phineas the Wolf   Phineas the Wolf   Phineas the Wolf   Phineas the Wolf   Phineas the Wolf   Phineas the Wolf   Phineas the Wolf   Phineas the Wolf   Phineas the Wolf   Phineas the Wolf   Phineas the Wolf   Phineas the Wolf   Phineas the Wolf   Phineas the Wolf   Phineas the Wolf   Phineas the Wolf   Phineas the Wolf   Phineas the Wolf   Phineas the Wolf   Phineas the Wolf   Phineas the Wolf   Phineas the Wolf   Phineas the Wolf   Phineas the Wolf   Phineas the Wolf   Phineas the Wolf   Phineas the Wolf   Phineas the Wolf   Phineas the Wolf   Phineas the Wolf   Phineas the Wolf   Phineas the Wolf   Phineas the Wolf   Phineas the Wolf   Phineas the Wolf   Phineas the Wolf   Phineas the Wolf   Phineas the Wolf   Phineas the Wolf   Phineas the Wolf   Phineas the Wolf   Phineas the Wolf   Phineas the Wolf   Phineas the Wolf   Phineas the Wolf   Phineas the Wolf   Phineas the Wolf   Phineas the Wolf   Phineas the Wolf   Phineas the Wolf   Phineas the Wolf   Phineas the Wolf   Phineas the Wolf   Phineas the Wolf   Phineas the Wolf   Phineas the Wolf   Phineas the Wolf   Phineas the Wolf   Phineas the Wolf   Phineas the Wolf   Phineas the Wolf   Phineas the Wolf   Phineas the Wolf   Phineas the Wolf   Phineas the Wolf   Phineas the Wolf   Phineas the Wolf   Phineas the Wolf   Phineas the Wolf   Phineas the Wolf   Phineas the Wolf   Phineas the Wolf   Phineas the Wolf   Phineas the Wolf   Phineas the Wolf   Phineas the Wolf   Phineas the Wolf   Phineas the Wolf   Phineas the Wolf   Phineas the Wolf   Phineas the Wolf   Phineas the Wolf   Phineas the Wolf   Phineas the Wolf   Phineas the Wolf   Phineas the Wolf   Phineas the Wolf   Phineas the Wolf   Phineas the Wolf   Phineas the Wolf   Phineas the Wolf   Phineas the Wolf   Phineas the Wolf   Phineas the Wolf   Phineas the Wolf   Phineas the Wolf   Phineas the Wolf   Phineas the Wolf   Phineas the Wolf   Phineas the Wolf   Phineas the Wolf   Phineas the Wolf   Phineas the Wolf   Phineas the Wolf   Phineas the Wolf   Phineas the Wolf   Phineas the Wolf   Phineas the Wolf   Phineas the Wolf   Phineas the Wolf   Phineas the Wolf   Phineas the Wolf   Phineas the Wolf   Phineas the Wolf   Phineas the Wolf   Phineas the Wolf   Phineas the Wolf   Phineas the Wolf   Phineas the Wolf   Phineas the Wolf   Phineas the Wolf   Phineas the Wolf   Phineas the Wolf   Phineas the Wolf   Phineas the Wolf   Phineas the Wolf   Phineas the Wolf   Phineas the Wolf   Phineas the Wolf   Phineas the Wolf   Phineas the Wolf   Phineas the Wolf   Phineas the Wolf   Phineas the Wolf   Phineas the Wolf   Phineas the Wolf   Phineas the Wolf   Phineas the Wolf   Phineas the Wolf   Phineas the Wolf   Phineas the Wolf   Phineas the Wolf   Phineas the Wolf   Phineas the Wolf   Phineas the Wolf   Phineas the Wolf   Phineas the Wolf   Phineas the Wolf   Phineas the Wolf   Phineas the Wolf   Phineas the Wolf   Phineas the Wolf   Phineas the Wolf   Phineas the Wolf   Phineas the Wolf   Phineas the Wolf   Phineas the Wolf   Phineas the Wolf   Phineas the Wolf   Phineas the Wolf   Phineas the Wolf   Phineas the Wolf   Phineas the Wolf   Phineas the Wolf   Phineas the Wolf   Phineas the Wolf   Phineas the Wolf   Phineas the Wolf   Phineas the Wolf   Phineas the Wolf   Phineas the Wolf   Phineas the Wolf   Phineas the Wolf   Phineas the Wolf   Phineas the Wolf   Phineas the Wolf   Phineas the Wolf   Phineas the Wolf   Phineas the Wolf   Phineas the Wolf   Phineas the Wolf   Phineas the Wolf   Phineas the Wolf   Phineas the Wolf   Phineas the Wolf   Phineas the Wolf   Phineas the Wolf   Phineas the Wolf   Phineas the Wolf   Phineas the Wolf   Phineas the Wolf   Phineas the Wolf   Phineas the Wolf   Phineas the Wolf   Phineas the Wolf   Phineas the Wolf   Phineas the Wolf   Phineas the Wolf   Phineas the Wolf   Phineas the Wolf   Phineas the Wolf   Phineas the Wolf   Phineas the Wolf   Phineas the Wolf   Phineas the Wolf   Phineas the Wolf   Phineas the Wolf   Phineas the Wolf   Phineas the Wolf   Phineas the Wolf   Phineas the Wolf   Phineas the Wolf   Phineas the Wolf   Phineas the Wolf   Phineas the Wolf   Phineas the Wolf   Phineas the Wolf   Phineas the Wolf   Phineas the Wolf   Phineas the Wolf   Phineas the Wolf   Phineas the Wolf   Phineas the Wolf   Phineas the Wolf   Phineas the Wolf   Phineas the Wolf   Phineas the Wolf   Phineas the Wolf   Phineas the Wolf   Phineas the Wolf   Phineas the Wolf   Phineas the Wolf   Phineas the Wolf   Phineas the Wolf   Phineas the Wolf   Phineas the Wolf   Phineas the Wolf   Phineas the Wolf   Phineas the Wolf   Phineas the Wolf   Phineas the Wolf   Phineas the Wolf   Phineas the Wolf   Phineas the Wolf   Phineas the Wolf   Phineas the Wolf   Phineas the Wolf   Phineas the Wolf   Phineas the Wolf   Phineas the Wolf   Phineas the Wolf   Phineas the Wolf   Phineas the Wolf   Phineas the Wolf   Phineas the Wolf   Phineas the Wolf   Phineas the Wolf   Phineas the Wolf   Phineas the Wolf   Phineas the Wolf   Phineas the Wolf   Phineas the Wolf   Phineas the Wolf   Phineas the Wolf   Phineas the Wolf   Phineas the Wolf   Phineas the Wolf   Phineas the Wolf   Phineas the Wolf   Phineas the Wolf   Phineas the Wolf   Phineas the Wolf   Phineas the Wolf   Phineas the Wolf   Phineas the Wolf   Phineas the Wolf   Phineas the Wolf   Phineas the Wolf   Phineas the Wolf   Phineas the Wolf   Phineas the Wolf   Phineas the Wolf   Phineas the Wolf   Phineas the Wolf   Phineas the Wolf   Phineas the Wolf   Phineas the Wolf   Phineas the Wolf   Phineas the Wolf   Phineas the Wolf   Phineas the Wolf   Phineas the Wolf   Phineas the Wolf   Phineas the Wolf   Phineas the Wolf   Phineas the Wolf   Phineas the Wolf   Phineas the Wolf   Phineas the Wolf   Phineas the Wolf   Phineas the Wolf   Phineas the Wolf   Phineas the Wolf   Phineas the Wolf   Phineas the Wolf   Phineas the Wolf   Phineas the Wolf   Phineas the Wolf   Phineas the Wolf   Phineas the Wolf   Phineas the Wolf   Phineas the Wolf   Phineas the Wolf   Phineas the Wolf   Phineas the Wolf   Phineas the Wolf   Phineas the Wolf   Phineas the Wolf   Phineas the Wolf   Phineas the Wolf   Phineas the Wolf   Phineas the Wolf   Phineas the Wolf   Phineas the Wolf   Phineas the Wolf   Phineas the Wolf   Phineas the Wolf   Phineas the Wolf   Phineas the Wolf   Phineas the Wolf   Phineas the Wolf   Phineas the Wolf   Phineas the Wolf   Phineas the Wolf   Phineas the Wolf   Phineas the Wolf   Phineas the Wolf   Phineas the Wolf   Phineas the Wolf   Phineas the Wolf   Phineas the Wolf   Phineas the Wolf   Phineas the Wolf   Phineas the Wolf   Phineas the Wolf   Phineas the Wolf   Phineas the Wolf   Phineas the Wolf   Phineas the Wolf   Phineas the Wolf   Phineas the Wolf   Phineas the Wolf   Phineas the Wolf   Phineas the Wolf   Phineas the Wolf   Phineas the Wolf   Phineas the Wolf   Phineas the Wolf   Phineas the Wolf   Phineas the Wolf   Phineas the Wolf   Phineas the Wolf   Phineas the Wolf   Phineas the Wolf   Phineas the Wolf   Phineas the Wolf   Phineas the Wolf   Phineas the Wolf   Phineas the Wolf   Phineas the Wolf   Phineas the Wolf   Phineas the Wolf   Phineas the Wolf   Phineas the Wolf   Phineas the Wolf   Phineas the Wolf   Phineas the Wolf   Phineas the Wolf   Phineas the Wolf   Phineas the Wolf   Phineas the Wolf   Phineas the Wolf   Phineas the Wolf   Phineas the Wolf   Phineas the Wolf   Phineas the Wolf   Phineas the Wolf   Phineas the Wolf   Phineas the Wolf   Phineas the Wolf   Phineas the Wolf   Phineas the Wolf   Phineas the Wolf   Phineas the Wolf   Phineas the Wolf   Phineas the Wolf   Phineas the Wolf   Phineas the Wolf   Phineas the Wolf   Phineas the Wolf   Phineas the Wolf   Phineas the Wolf   Phineas the Wolf   Phineas the Wolf   Phineas the Wolf   Phineas the Wolf   Phineas the Wolf   Phineas the Wolf   Phineas the Wolf   Phineas the Wolf   Phineas the Wolf   Phineas the Wolf   Phineas the Wolf   Phineas the Wolf   Phineas the Wolf   Phineas the Wolf   Phineas the Wolf   Phineas the Wolf   Phineas the Wolf   Phineas the Wolf   Phineas the Wolf   Phineas the Wolf   Phineas the Wolf   Phineas the Wolf   Phineas the Wolf   Phineas the Wolf   Phineas the Wolf   Phineas the Wolf   Phineas the Wolf   Phineas the Wolf   Phineas the Wolf   Phineas the Wolf   Phineas the Wolf   Phineas the Wolf   Phineas the Wolf   Phineas the Wolf   Phineas the Wolf   Phineas the Wolf   Phineas the Wolf   Phineas the Wolf   Phineas the Wolf   Phineas the Wolf   Phineas the Wolf   Phineas the Wolf   Phineas the Wolf   Phineas the Wolf   Phineas the Wolf   Phineas the Wolf   Phineas the Wolf   Phineas the Wolf   Phineas the Wolf   Phineas the Wolf   Phineas the Wolf   Phineas the Wolf   Phineas the Wolf   Phineas the Wolf   Phineas the Wolf   Phineas the Wolf   Phineas the Wolf   Phineas the Wolf   Phineas the Wolf   Phineas the Wolf   Phineas the Wolf   Phineas the Wolf   Phineas the Wolf   Phineas the Wolf   Phineas the Wolf   Phineas the Wolf   Phineas the Wolf   Phineas the Wolf   Phineas the Wolf   Phineas the Wolf   Phineas the Wolf   Phineas the Wolf   Phineas the Wolf   Phineas the Wolf   Phineas the Wolf   Phineas the Wolf   Phineas the Wolf   Phineas the Wolf   Phineas the Wolf   Phineas the Wolf   Phineas the Wolf   Phineas the Wolf   Phineas the Wolf   Phineas the Wolf   Phineas the Wolf   Phineas the Wolf   Phineas the Wolf   Phineas the Wolf   Phineas the Wolf   Phineas the Wolf   Phineas the Wolf   Phineas the Wolf   Phineas the Wolf   Phineas the Wolf   Phineas the Wolf   Phineas the Wolf   Phineas the Wolf   Phineas the Wolf   Phineas the Wolf   Phineas the Wolf   Phineas the Wolf   Phineas the Wolf   Phineas the Wolf   Phineas the Wolf   Phineas the Wolf   Phineas the Wolf   Phineas the Wolf   Phineas the Wolf   Phineas the Wolf   Phineas the Wolf   Phineas the Wolf   Phineas the Wolf   Phineas the Wolf   Phineas the Wolf   Phineas the Wolf   Phineas the Wolf   Phineas the Wolf   Phineas the Wolf   Phineas the Wolf   Phineas the Wolf   Phineas the Wolf   Phineas the Wolf   Phineas the Wolf   Phineas the Wolf   Phineas the Wolf   Phineas the Wolf   Phineas the Wolf   Phineas the Wolf   Phineas the Wolf   Phineas the Wolf   Phineas the Wolf   Phineas the Wolf   Phineas the Wolf   Phineas the Wolf   Phineas the Wolf   Phineas the Wolf   Phineas the Wolf   Phineas the Wolf   Phineas the Wolf   Phineas the Wolf   Phineas the Wolf   Phineas the Wolf   Phineas the Wolf   Phineas the Wolf   Phineas the Wolf   Phineas the Wolf   Phineas the Wolf   Phineas the Wolf   Phineas the Wolf   Phineas the Wolf   Phineas the Wolf   Phineas the Wolf   Phineas the Wolf   Phineas the Wolf   Phineas the Wolf   Phineas the Wolf   Phineas the Wolf   Phineas the Wolf   Phineas the Wolf   Phineas the Wolf   Phineas the Wolf   Phineas the Wolf   Phineas the Wolf   Phineas the Wolf   Phineas the Wolf   Phineas the Wolf   Phineas the Wolf   Phineas the Wolf   Phineas the Wolf   Phineas the Wolf   Phineas the Wolf   Phineas the Wolf   Phineas the Wolf   Phineas the Wolf   Phineas the Wolf   Phineas the Wolf   Phineas the Wolf   Phineas the Wolf   Phineas the Wolf   Phineas the Wolf   Phineas the Wolf   Phineas the Wolf   Phineas the Wolf   Phineas the Wolf   Phineas the Wolf   Phineas the Wolf   Phineas the Wolf   Phineas the Wolf   Phineas the Wolf   Phineas the Wolf   Phineas the Wolf   Phineas the Wolf   Phineas the Wolf   Phineas the Wolf   Phineas the Wolf   Phineas the Wolf   Phineas the Wolf   Phineas the Wolf   Phineas the Wolf   Phineas the Wolf   Phineas the Wolf   Phineas the Wolf   Phineas the Wolf   Phineas the Wolf   Phineas the Wolf   Phineas the Wolf   Phineas the Wolf   Phineas the Wolf   Phineas the Wolf   Phineas the Wolf   Phineas the Wolf   Phineas the Wolf   Phineas the Wolf   Phineas the Wolf   Phineas the Wolf   Phineas the Wolf   Phineas the Wolf   Phineas the Wolf   Phineas the Wolf   Phineas the Wolf   Phineas the Wolf   Phineas the Wolf   Phineas the Wolf   Phineas the Wolf   Phineas the Wolf   Phineas the Wolf   Phineas the Wolf   Phineas the Wolf   Phineas the Wolf   Phineas the Wolf   Phineas the Wolf   Phineas the Wolf   Phineas the Wolf   Phineas the Wolf   Phineas the Wolf   Phineas the Wolf   Phineas the Wolf   Phineas the Wolf   Phineas the Wolf   Phineas the Wolf   Phineas the Wolf   Phineas the Wolf   Phineas the Wolf   Phineas the Wolf   Phineas the Wolf   Phineas the Wolf   Phineas the Wolf   Phineas the Wolf   Phineas the Wolf   Phineas the Wolf   Phineas the Wolf   Phineas the Wolf   Phineas the Wolf   Phineas the Wolf   Phineas the Wolf   Phineas the Wolf   Phineas the Wolf   Phineas the Wolf   Phineas the Wolf   Phineas the Wolf   Phineas the Wolf   Phineas the Wolf   Phineas the Wolf   Phineas the Wolf   Phineas the Wolf   Phineas the Wolf   Phineas the Wolf   Phineas the Wolf   Phineas the Wolf   Phineas the Wolf   Phineas the Wolf   Phineas the Wolf   Phineas the Wolf   Phineas the Wolf   Phineas the Wolf   Phineas the Wolf   Phineas the Wolf   Phineas the Wolf   Phineas the Wolf   Phineas the Wolf   Phineas the Wolf   Phineas the Wolf   Phineas the Wolf   Phineas the Wolf   Phineas the Wolf   Phineas the Wolf   Phineas the Wolf   Phineas the Wolf   Phineas the Wolf   Phineas the Wolf   Phineas the Wolf   Phineas the Wolf   Phineas the Wolf   Phineas the Wolf   Phineas the Wolf   Phineas the Wolf   Phineas the Wolf   Phineas the Wolf   Phineas the Wolf   Phineas the Wolf   Phineas the Wolf   Phineas the Wolf   Phineas the Wolf   Phineas the Wolf   Phineas the Wolf   Phineas the Wolf   Phineas the Wolf   Phineas the Wolf   Phineas the Wolf   Phineas the Wolf   Phineas the Wolf   Phineas the Wolf   Phineas the Wolf   Phineas the Wolf   Phineas the Wolf   Phineas the Wolf   Phineas the Wolf   Phineas the Wolf   Phineas the Wolf   Phineas the Wolf   Phineas the Wolf   Phineas the Wolf   Phineas the Wolf   Phineas the Wolf   Phineas the Wolf   Phineas the Wolf   Phineas the Wolf   Phineas the Wolf   Phineas the Wolf   Phineas the Wolf   Phineas the Wolf   Phineas the Wolf   Phineas the Wolf   Phineas the Wolf   Phineas the Wolf   Phineas the Wolf   Phineas the Wolf   Phineas the Wolf   Phineas the Wolf   Phineas the Wolf   Phineas the Wolf   Phineas the Wolf   Phineas the Wolf   Phineas the Wolf   Phineas the Wolf   Phineas the Wolf   Phineas the Wolf   Phineas the Wolf   Phineas the Wolf   Phineas the Wolf   Phineas the Wolf   Phineas the Wolf   Phineas the Wolf   Phineas the Wolf   Phineas the Wolf   Phineas the Wolf   Phineas the Wolf   Phineas the Wolf   Phineas the Wolf   Phineas the Wolf   Phineas the Wolf   Phineas the Wolf   Phineas the Wolf   Phineas the Wolf   Phineas the Wolf   Phineas the Wolf   Phineas the Wolf   Phineas the Wolf   Phineas the Wolf   Phineas the Wolf   Phineas the Wolf   Phineas the Wolf   Phineas the Wolf   Phineas the Wolf   Phineas the Wolf   Phineas the Wolf   Phineas the Wolf   Phineas the Wolf   Phineas the Wolf   Phineas the Wolf   Phineas the Wolf   Phineas the Wolf   Phineas the Wolf   Phineas the Wolf   Phineas the Wolf   Phineas the Wolf   Phineas the Wolf   Phineas the Wolf   Phineas the Wolf   '"
      ]
     },
     "execution_count": 36,
     "metadata": {},
     "output_type": "execute_result"
    }
   ],
   "source": [
    "T*1000"
   ]
  },
  {
   "cell_type": "markdown",
   "metadata": {},
   "source": [
    "#### Immutability\n",
    "\n",
    "** numbers, strings, and tuples** cannot be overwritten or changed in place because they are immutable.\n",
    "\n",
    "**lists, dictionaries, sets** are not.\n",
    "\n",
    "However, you can change text-based data in-place if you expand into a list and join it back together.\n"
   ]
  },
  {
   "cell_type": "code",
   "execution_count": 2,
   "metadata": {},
   "outputs": [
    {
     "data": {
      "text/plain": [
       "['s', 'h', 'r', 'u', 'b', 'b', 'b', 'e', 'r', 'y']"
      ]
     },
     "execution_count": 2,
     "metadata": {},
     "output_type": "execute_result"
    }
   ],
   "source": [
    "S = 'shrubbbery'\n",
    "L=list(S)\n",
    "L"
   ]
  },
  {
   "cell_type": "code",
   "execution_count": 3,
   "metadata": {
    "collapsed": true
   },
   "outputs": [],
   "source": [
    "L[1]='c'"
   ]
  },
  {
   "cell_type": "code",
   "execution_count": 4,
   "metadata": {},
   "outputs": [
    {
     "data": {
      "text/plain": [
       "'scrubbbery'"
      ]
     },
     "execution_count": 4,
     "metadata": {},
     "output_type": "execute_result"
    }
   ],
   "source": [
    "''.join(L)"
   ]
  },
  {
   "cell_type": "markdown",
   "metadata": {},
   "source": [
    "also can use **bytarray**"
   ]
  },
  {
   "cell_type": "markdown",
   "metadata": {},
   "source": [
    "#### String-specific methods\n",
    "Like **find** and **replace**"
   ]
  },
  {
   "cell_type": "code",
   "execution_count": 1,
   "metadata": {},
   "outputs": [
    {
     "data": {
      "text/plain": [
       "1"
      ]
     },
     "execution_count": 1,
     "metadata": {},
     "output_type": "execute_result"
    }
   ],
   "source": [
    "S='Spam'\n",
    "S.find('pa')"
   ]
  },
  {
   "cell_type": "raw",
   "metadata": {
    "collapsed": true
   },
   "source": [
    "S.replace('pa','XYZ')"
   ]
  },
  {
   "cell_type": "code",
   "execution_count": 2,
   "metadata": {},
   "outputs": [
    {
     "data": {
      "text/plain": [
       "'Spam'"
      ]
     },
     "execution_count": 2,
     "metadata": {},
     "output_type": "execute_result"
    }
   ],
   "source": [
    "S"
   ]
  },
  {
   "cell_type": "code",
   "execution_count": 3,
   "metadata": {
    "collapsed": true
   },
   "outputs": [],
   "source": [
    "line = 'aaa,bbb,ccccc,dd'"
   ]
  },
  {
   "cell_type": "code",
   "execution_count": 4,
   "metadata": {},
   "outputs": [
    {
     "data": {
      "text/plain": [
       "['aaa', 'bbb', 'ccccc', 'dd']"
      ]
     },
     "execution_count": 4,
     "metadata": {},
     "output_type": "execute_result"
    }
   ],
   "source": [
    "line.split(',')"
   ]
  },
  {
   "cell_type": "code",
   "execution_count": 5,
   "metadata": {
    "collapsed": true
   },
   "outputs": [],
   "source": [
    "S='spam'"
   ]
  },
  {
   "cell_type": "code",
   "execution_count": 6,
   "metadata": {},
   "outputs": [
    {
     "data": {
      "text/plain": [
       "'SPAM'"
      ]
     },
     "execution_count": 6,
     "metadata": {},
     "output_type": "execute_result"
    }
   ],
   "source": [
    "S.upper()"
   ]
  },
  {
   "cell_type": "code",
   "execution_count": 7,
   "metadata": {},
   "outputs": [
    {
     "data": {
      "text/plain": [
       "'spam, eggs, and SPAM!'"
      ]
     },
     "execution_count": 7,
     "metadata": {},
     "output_type": "execute_result"
    }
   ],
   "source": [
    "'%s, eggs, and %s' % ('spam', 'SPAM!')"
   ]
  },
  {
   "cell_type": "code",
   "execution_count": 8,
   "metadata": {},
   "outputs": [
    {
     "data": {
      "text/plain": [
       "['__add__',\n",
       " '__class__',\n",
       " '__contains__',\n",
       " '__delattr__',\n",
       " '__doc__',\n",
       " '__eq__',\n",
       " '__format__',\n",
       " '__ge__',\n",
       " '__getattribute__',\n",
       " '__getitem__',\n",
       " '__getnewargs__',\n",
       " '__getslice__',\n",
       " '__gt__',\n",
       " '__hash__',\n",
       " '__init__',\n",
       " '__le__',\n",
       " '__len__',\n",
       " '__lt__',\n",
       " '__mod__',\n",
       " '__mul__',\n",
       " '__ne__',\n",
       " '__new__',\n",
       " '__reduce__',\n",
       " '__reduce_ex__',\n",
       " '__repr__',\n",
       " '__rmod__',\n",
       " '__rmul__',\n",
       " '__setattr__',\n",
       " '__sizeof__',\n",
       " '__str__',\n",
       " '__subclasshook__',\n",
       " '_formatter_field_name_split',\n",
       " '_formatter_parser',\n",
       " 'capitalize',\n",
       " 'center',\n",
       " 'count',\n",
       " 'decode',\n",
       " 'encode',\n",
       " 'endswith',\n",
       " 'expandtabs',\n",
       " 'find',\n",
       " 'format',\n",
       " 'index',\n",
       " 'isalnum',\n",
       " 'isalpha',\n",
       " 'isdigit',\n",
       " 'islower',\n",
       " 'isspace',\n",
       " 'istitle',\n",
       " 'isupper',\n",
       " 'join',\n",
       " 'ljust',\n",
       " 'lower',\n",
       " 'lstrip',\n",
       " 'partition',\n",
       " 'replace',\n",
       " 'rfind',\n",
       " 'rindex',\n",
       " 'rjust',\n",
       " 'rpartition',\n",
       " 'rsplit',\n",
       " 'rstrip',\n",
       " 'split',\n",
       " 'splitlines',\n",
       " 'startswith',\n",
       " 'strip',\n",
       " 'swapcase',\n",
       " 'title',\n",
       " 'translate',\n",
       " 'upper',\n",
       " 'zfill']"
      ]
     },
     "execution_count": 8,
     "metadata": {},
     "output_type": "execute_result"
    }
   ],
   "source": [
    "dir(S)"
   ]
  },
  {
   "cell_type": "code",
   "execution_count": 9,
   "metadata": {},
   "outputs": [
    {
     "name": "stdout",
     "output_type": "stream",
     "text": [
      "Help on built-in function replace:\n",
      "\n",
      "replace(...)\n",
      "    S.replace(old, new[, count]) -> string\n",
      "    \n",
      "    Return a copy of string S with all occurrences of substring\n",
      "    old replaced by new.  If the optional argument count is\n",
      "    given, only the first count occurrences are replaced.\n",
      "\n"
     ]
    }
   ],
   "source": [
    "help(S.replace)"
   ]
  },
  {
   "cell_type": "code",
   "execution_count": 10,
   "metadata": {
    "collapsed": true
   },
   "outputs": [],
   "source": [
    "import re\n"
   ]
  },
  {
   "cell_type": "code",
   "execution_count": 13,
   "metadata": {
    "collapsed": true
   },
   "outputs": [],
   "source": [
    "match = re.match('Hello[ \\t]*(.*)world', 'Hello     Python world')"
   ]
  },
  {
   "cell_type": "code",
   "execution_count": 15,
   "metadata": {},
   "outputs": [
    {
     "data": {
      "text/plain": [
       "'Python '"
      ]
     },
     "execution_count": 15,
     "metadata": {},
     "output_type": "execute_result"
    }
   ],
   "source": [
    "match.group(1)"
   ]
  },
  {
   "cell_type": "markdown",
   "metadata": {},
   "source": [
    "#### Lists are also sequences.  \n",
    "\n",
    "* they have the support of all the strong operators.\n",
    "* no fixed size\n",
    "* but they ** are ** mutable.\n",
    "\n",
    "They also have some special operations provided as methods\n",
    "* sort, append, reverse\n"
   ]
  },
  {
   "cell_type": "markdown",
   "metadata": {
    "collapsed": true
   },
   "source": [
    "\n"
   ]
  },
  {
   "cell_type": "code",
   "execution_count": 1,
   "metadata": {
    "collapsed": true
   },
   "outputs": [],
   "source": [
    "L=[123, 'spam', 1.23]"
   ]
  },
  {
   "cell_type": "code",
   "execution_count": 2,
   "metadata": {},
   "outputs": [
    {
     "data": {
      "text/plain": [
       "['__add__',\n",
       " '__class__',\n",
       " '__contains__',\n",
       " '__delattr__',\n",
       " '__delitem__',\n",
       " '__delslice__',\n",
       " '__doc__',\n",
       " '__eq__',\n",
       " '__format__',\n",
       " '__ge__',\n",
       " '__getattribute__',\n",
       " '__getitem__',\n",
       " '__getslice__',\n",
       " '__gt__',\n",
       " '__hash__',\n",
       " '__iadd__',\n",
       " '__imul__',\n",
       " '__init__',\n",
       " '__iter__',\n",
       " '__le__',\n",
       " '__len__',\n",
       " '__lt__',\n",
       " '__mul__',\n",
       " '__ne__',\n",
       " '__new__',\n",
       " '__reduce__',\n",
       " '__reduce_ex__',\n",
       " '__repr__',\n",
       " '__reversed__',\n",
       " '__rmul__',\n",
       " '__setattr__',\n",
       " '__setitem__',\n",
       " '__setslice__',\n",
       " '__sizeof__',\n",
       " '__str__',\n",
       " '__subclasshook__',\n",
       " 'append',\n",
       " 'count',\n",
       " 'extend',\n",
       " 'index',\n",
       " 'insert',\n",
       " 'pop',\n",
       " 'remove',\n",
       " 'reverse',\n",
       " 'sort']"
      ]
     },
     "execution_count": 2,
     "metadata": {},
     "output_type": "execute_result"
    }
   ],
   "source": [
    "dir(L)"
   ]
  },
  {
   "cell_type": "markdown",
   "metadata": {},
   "source": [
    "Nesting is also possible. lists of lists."
   ]
  },
  {
   "cell_type": "markdown",
   "metadata": {},
   "source": [
    "But **list comprehensions are where the real magic is **.\n"
   ]
  },
  {
   "cell_type": "code",
   "execution_count": 3,
   "metadata": {
    "collapsed": true
   },
   "outputs": [],
   "source": [
    "M=[[1,2,3],[4,5,6],[7,8,9]]"
   ]
  },
  {
   "cell_type": "code",
   "execution_count": 4,
   "metadata": {},
   "outputs": [
    {
     "data": {
      "text/plain": [
       "[[1, 2, 3], [4, 5, 6], [7, 8, 9]]"
      ]
     },
     "execution_count": 4,
     "metadata": {},
     "output_type": "execute_result"
    }
   ],
   "source": [
    "M"
   ]
  },
  {
   "cell_type": "code",
   "execution_count": 5,
   "metadata": {
    "collapsed": true
   },
   "outputs": [],
   "source": [
    "col2 = [row[1] for row in M]"
   ]
  },
  {
   "cell_type": "code",
   "execution_count": 8,
   "metadata": {},
   "outputs": [
    {
     "data": {
      "text/plain": [
       "[2, 5, 8]"
      ]
     },
     "execution_count": 8,
     "metadata": {},
     "output_type": "execute_result"
    }
   ],
   "source": [
    "col2"
   ]
  },
  {
   "cell_type": "markdown",
   "metadata": {},
   "source": [
    "The key idea is you can iterate over any *iterable* object.\n",
    "\n",
    "and enclosing a comprehension in parentheses can create a generator like this:"
   ]
  },
  {
   "cell_type": "code",
   "execution_count": 11,
   "metadata": {
    "collapsed": true
   },
   "outputs": [],
   "source": [
    "G=(sum(row) for row in M)"
   ]
  },
  {
   "cell_type": "code",
   "execution_count": 12,
   "metadata": {},
   "outputs": [
    {
     "data": {
      "text/plain": [
       "6"
      ]
     },
     "execution_count": 12,
     "metadata": {},
     "output_type": "execute_result"
    }
   ],
   "source": [
    "next(G)"
   ]
  },
  {
   "cell_type": "code",
   "execution_count": 13,
   "metadata": {},
   "outputs": [
    {
     "data": {
      "text/plain": [
       "15"
      ]
     },
     "execution_count": 13,
     "metadata": {},
     "output_type": "execute_result"
    }
   ],
   "source": [
    "next(G)"
   ]
  },
  {
   "cell_type": "code",
   "execution_count": 14,
   "metadata": {},
   "outputs": [
    {
     "data": {
      "text/plain": [
       "[6, 15, 24]"
      ]
     },
     "execution_count": 14,
     "metadata": {},
     "output_type": "execute_result"
    }
   ],
   "source": [
    "list(map(sum,M))"
   ]
  },
  {
   "cell_type": "code",
   "execution_count": 15,
   "metadata": {},
   "outputs": [
    {
     "data": {
      "text/plain": [
       "{6, 15, 24}"
      ]
     },
     "execution_count": 15,
     "metadata": {},
     "output_type": "execute_result"
    }
   ],
   "source": [
    "{sum(row) for row in M}"
   ]
  },
  {
   "cell_type": "code",
   "execution_count": 16,
   "metadata": {},
   "outputs": [
    {
     "data": {
      "text/plain": [
       "{0: 6, 1: 15, 2: 24}"
      ]
     },
     "execution_count": 16,
     "metadata": {},
     "output_type": "execute_result"
    }
   ],
   "source": [
    "{i: sum(M[i]) for i in range(3)}"
   ]
  },
  {
   "cell_type": "markdown",
   "metadata": {},
   "source": [
    "#### Dictionaries\n",
    "OK, lets look at **dictionaries.**\n",
    "* not sequences, but mappings.  \n",
    "* stored by key instead of position.\n",
    "* mutable, like lists\n",
    "\n",
    "Lets look at how to map:"
   ]
  },
  {
   "cell_type": "code",
   "execution_count": 17,
   "metadata": {
    "collapsed": true
   },
   "outputs": [],
   "source": [
    "D={'food': 'Spam', 'quantity': 4, 'color': 'pink'}"
   ]
  },
  {
   "cell_type": "code",
   "execution_count": 19,
   "metadata": {
    "collapsed": true
   },
   "outputs": [],
   "source": [
    "D={}\n",
    "D['name'] = 'Bob'\n",
    "D['job'] = 'dev'\n",
    "D['age'] = 40"
   ]
  },
  {
   "cell_type": "code",
   "execution_count": 20,
   "metadata": {
    "collapsed": true
   },
   "outputs": [],
   "source": [
    "bob1=dict(name='Bob', job='dev', age=40)"
   ]
  },
  {
   "cell_type": "code",
   "execution_count": 21,
   "metadata": {},
   "outputs": [
    {
     "data": {
      "text/plain": [
       "{'age': 40, 'job': 'dev', 'name': 'Bob'}"
      ]
     },
     "execution_count": 21,
     "metadata": {},
     "output_type": "execute_result"
    }
   ],
   "source": [
    "bob1"
   ]
  },
  {
   "cell_type": "code",
   "execution_count": 22,
   "metadata": {
    "collapsed": true
   },
   "outputs": [],
   "source": [
    "bob2=dict(zip(['name','job','age'],['Bob','dev',40]))"
   ]
  },
  {
   "cell_type": "code",
   "execution_count": 23,
   "metadata": {},
   "outputs": [
    {
     "data": {
      "text/plain": [
       "{'age': 40, 'job': 'dev', 'name': 'Bob'}"
      ]
     },
     "execution_count": 23,
     "metadata": {},
     "output_type": "execute_result"
    }
   ],
   "source": [
    "bob2"
   ]
  },
  {
   "cell_type": "code",
   "execution_count": 24,
   "metadata": {
    "collapsed": true
   },
   "outputs": [],
   "source": [
    "rec={'name': {'first':'Bob', 'last': 'Smith'}, 'jobs':['dev','mgr'], 'age':40.5}"
   ]
  },
  {
   "cell_type": "code",
   "execution_count": 25,
   "metadata": {},
   "outputs": [
    {
     "data": {
      "text/plain": [
       "{'age': 40.5,\n",
       " 'jobs': ['dev', 'mgr'],\n",
       " 'name': {'first': 'Bob', 'last': 'Smith'}}"
      ]
     },
     "execution_count": 25,
     "metadata": {},
     "output_type": "execute_result"
    }
   ],
   "source": [
    "rec"
   ]
  },
  {
   "cell_type": "markdown",
   "metadata": {},
   "source": [
    "We can use \"if\" to test if there is a key in they dictionary"
   ]
  },
  {
   "cell_type": "code",
   "execution_count": 26,
   "metadata": {},
   "outputs": [
    {
     "data": {
      "text/plain": [
       "True"
      ]
     },
     "execution_count": 26,
     "metadata": {},
     "output_type": "execute_result"
    }
   ],
   "source": [
    "'age' in rec"
   ]
  },
  {
   "cell_type": "markdown",
   "metadata": {},
   "source": [
    "for key in sorted(rec):\n",
    "    print(key, '=>', rec[key])"
   ]
  },
  {
   "cell_type": "code",
   "execution_count": 27,
   "metadata": {},
   "outputs": [
    {
     "name": "stdout",
     "output_type": "stream",
     "text": [
      "('age', '=>', 40.5)\n",
      "('jobs', '=>', ['dev', 'mgr'])\n",
      "('name', '=>', {'last': 'Smith', 'first': 'Bob'})\n"
     ]
    }
   ],
   "source": [
    "for key in sorted(rec):\n",
    "    print(key, '=>', rec[key])\n",
    "    "
   ]
  },
  {
   "cell_type": "markdown",
   "metadata": {},
   "source": [
    "#### Iterables \n",
    "\n",
    "The key idea is that **for** loops and list comprehensions follow the **iteration protocol** and are therefore iterable.\n",
    "* they respond to the **iter** call with an object that advances in response to **next** calls."
   ]
  },
  {
   "cell_type": "markdown",
   "metadata": {},
   "source": [
    "#### Tuples\n",
    "\n",
    "immutable sequences (like strings, but not limited to elelemnts that are characters)."
   ]
  },
  {
   "cell_type": "code",
   "execution_count": 28,
   "metadata": {
    "collapsed": true
   },
   "outputs": [],
   "source": [
    "T=(1,2,3,4)"
   ]
  },
  {
   "cell_type": "code",
   "execution_count": 29,
   "metadata": {},
   "outputs": [
    {
     "data": {
      "text/plain": [
       "4"
      ]
     },
     "execution_count": 29,
     "metadata": {},
     "output_type": "execute_result"
    }
   ],
   "source": [
    "len(T)"
   ]
  },
  {
   "cell_type": "code",
   "execution_count": 30,
   "metadata": {},
   "outputs": [
    {
     "data": {
      "text/plain": [
       "['__add__',\n",
       " '__class__',\n",
       " '__contains__',\n",
       " '__delattr__',\n",
       " '__doc__',\n",
       " '__eq__',\n",
       " '__format__',\n",
       " '__ge__',\n",
       " '__getattribute__',\n",
       " '__getitem__',\n",
       " '__getnewargs__',\n",
       " '__getslice__',\n",
       " '__gt__',\n",
       " '__hash__',\n",
       " '__init__',\n",
       " '__iter__',\n",
       " '__le__',\n",
       " '__len__',\n",
       " '__lt__',\n",
       " '__mul__',\n",
       " '__ne__',\n",
       " '__new__',\n",
       " '__reduce__',\n",
       " '__reduce_ex__',\n",
       " '__repr__',\n",
       " '__rmul__',\n",
       " '__setattr__',\n",
       " '__sizeof__',\n",
       " '__str__',\n",
       " '__subclasshook__',\n",
       " 'count',\n",
       " 'index']"
      ]
     },
     "execution_count": 30,
     "metadata": {},
     "output_type": "execute_result"
    }
   ],
   "source": [
    "dir(T)"
   ]
  },
  {
   "cell_type": "code",
   "execution_count": 31,
   "metadata": {
    "collapsed": true
   },
   "outputs": [],
   "source": [
    "T=(2,)+T[1:]"
   ]
  },
  {
   "cell_type": "code",
   "execution_count": 32,
   "metadata": {},
   "outputs": [
    {
     "data": {
      "text/plain": [
       "(2, 2, 3, 4)"
      ]
     },
     "execution_count": 32,
     "metadata": {},
     "output_type": "execute_result"
    }
   ],
   "source": [
    "T"
   ]
  },
  {
   "cell_type": "code",
   "execution_count": 40,
   "metadata": {},
   "outputs": [
    {
     "data": {
      "text/plain": [
       "Fraction(3, 5)"
      ]
     },
     "execution_count": 40,
     "metadata": {},
     "output_type": "execute_result"
    }
   ],
   "source": [
    "from fractions import Fraction\n",
    "Fraction(3,6)+ Fraction(10,100)"
   ]
  },
  {
   "cell_type": "code",
   "execution_count": 46,
   "metadata": {},
   "outputs": [
    {
     "data": {
      "text/plain": [
       "['__doc__',\n",
       " '__file__',\n",
       " '__name__',\n",
       " '__package__',\n",
       " 'acos',\n",
       " 'acosh',\n",
       " 'asin',\n",
       " 'asinh',\n",
       " 'atan',\n",
       " 'atan2',\n",
       " 'atanh',\n",
       " 'ceil',\n",
       " 'copysign',\n",
       " 'cos',\n",
       " 'cosh',\n",
       " 'degrees',\n",
       " 'e',\n",
       " 'erf',\n",
       " 'erfc',\n",
       " 'exp',\n",
       " 'expm1',\n",
       " 'fabs',\n",
       " 'factorial',\n",
       " 'floor',\n",
       " 'fmod',\n",
       " 'frexp',\n",
       " 'fsum',\n",
       " 'gamma',\n",
       " 'hypot',\n",
       " 'isinf',\n",
       " 'isnan',\n",
       " 'ldexp',\n",
       " 'lgamma',\n",
       " 'log',\n",
       " 'log10',\n",
       " 'log1p',\n",
       " 'modf',\n",
       " 'pi',\n",
       " 'pow',\n",
       " 'radians',\n",
       " 'sin',\n",
       " 'sinh',\n",
       " 'sqrt',\n",
       " 'tan',\n",
       " 'tanh',\n",
       " 'trunc']"
      ]
     },
     "execution_count": 46,
     "metadata": {},
     "output_type": "execute_result"
    }
   ],
   "source": [
    "import math\n",
    "dir(math)"
   ]
  },
  {
   "cell_type": "markdown",
   "metadata": {},
   "source": [
    "math.pi"
   ]
  },
  {
   "cell_type": "code",
   "execution_count": 51,
   "metadata": {},
   "outputs": [
    {
     "data": {
      "text/plain": [
       "1.2246467991473532e-16j"
      ]
     },
     "execution_count": 51,
     "metadata": {},
     "output_type": "execute_result"
    }
   ],
   "source": [
    "math.e ** (complex(0,math.pi)) +1"
   ]
  },
  {
   "cell_type": "code",
   "execution_count": 48,
   "metadata": {},
   "outputs": [
    {
     "data": {
      "text/plain": [
       "(1+1j)"
      ]
     },
     "execution_count": 48,
     "metadata": {},
     "output_type": "execute_result"
    }
   ],
   "source": [
    "complex(1,1)"
   ]
  },
  {
   "cell_type": "code",
   "execution_count": null,
   "metadata": {
    "collapsed": true
   },
   "outputs": [],
   "source": [
    "\n"
   ]
  }
 ],
 "metadata": {
  "kernelspec": {
   "display_name": "Python 2",
   "language": "python",
   "name": "python2"
  },
  "language_info": {
   "codemirror_mode": {
    "name": "ipython",
    "version": 2
   },
   "file_extension": ".py",
   "mimetype": "text/x-python",
   "name": "python",
   "nbconvert_exporter": "python",
   "pygments_lexer": "ipython2",
   "version": "2.7.13"
  }
 },
 "nbformat": 4,
 "nbformat_minor": 2
}
